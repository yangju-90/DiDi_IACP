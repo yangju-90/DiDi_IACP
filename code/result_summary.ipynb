{
 "cells": [
  {
   "cell_type": "code",
   "execution_count": 1,
   "metadata": {
    "collapsed": true
   },
   "outputs": [],
   "source": [
    "import pandas as pd\n",
    "import os\n",
    "import matplotlib.pyplot as plt\n",
    "import seaborn as sns\n",
    "sns.set(color_codes=True)\n",
    "%matplotlib inline"
   ]
  },
  {
   "cell_type": "markdown",
   "metadata": {},
   "source": [
    "# Calcualte the area\n",
    "## Calculate the sum area of the clusters"
   ]
  },
  {
   "cell_type": "code",
   "execution_count": 2,
   "metadata": {
    "collapsed": false
   },
   "outputs": [],
   "source": [
    "dest_area = pd.DataFrame()\n",
    "start_area = pd.DataFrame()\n",
    "i=0\n",
    "k=0\n",
    "for file in os.listdir(r'..\\data\\total_cluster_boundary_area'):\n",
    "    if 'dest' in file:\n",
    "        dest_area.loc[i,'OD']= 'dest'\n",
    "        dest_area.loc[i,'Month'] = int(float(file.split('_')[2]))\n",
    "        dest_area.loc[i,'Area'] = pd.read_excel(r'..\\data\\total_cluster_boundary_area\\%s'%file).loc[0,'AREA']\n",
    "        i=i+1\n",
    "k=0\n",
    "for file in os.listdir(r'..\\data\\total_cluster_boundary_area'):\n",
    "    if 'starting' in file:\n",
    "        start_area.loc[k,'OD']= 'starting'\n",
    "        start_area.loc[k,'Month'] = int(float(file.split('_')[2]))\n",
    "        start_area.loc[k,'Area'] = pd.read_excel(r'..\\data\\total_cluster_boundary_area\\%s'%file).loc[0,'AREA']\n",
    "        k=k+1    "
   ]
  },
  {
   "cell_type": "markdown",
   "metadata": {},
   "source": [
    "## Calculate the coverage of all the clusters"
   ]
  },
  {
   "cell_type": "code",
   "execution_count": 3,
   "metadata": {
    "collapsed": false
   },
   "outputs": [
    {
     "name": "stdout",
     "output_type": "stream",
     "text": [
      "1\n",
      "10\n",
      "2\n",
      "3\n",
      "4\n",
      "5\n",
      "6\n",
      "7\n",
      "8\n",
      "9\n"
     ]
    }
   ],
   "source": [
    "total_dest_area = pd.DataFrame()\n",
    "total_start_area = pd.DataFrame()\n",
    "i=0\n",
    "k=0\n",
    "for file in os.listdir(r'..\\data\\overall_boundary_area'):\n",
    "    if 'dest' in file:\n",
    "        print(int(float(file[:-4].split('_')[1])))\n",
    "        total_dest_area.loc[i,'OD']= 'dest'\n",
    "        total_dest_area.loc[i,'Month'] = int(float(file[:-4].split('_')[1]))\n",
    "        total_dest_area.loc[i,'Area'] = pd.read_excel(r'..\\data\\overall_boundary_area\\%s'%file).loc[0,'area']\n",
    "        i=i+1\n",
    "k=0\n",
    "for file in os.listdir(r'..\\data\\overall_boundary_area'):\n",
    "    if 'starting' in file:\n",
    "        total_start_area.loc[k,'OD']= 'starting'\n",
    "        total_start_area.loc[k,'Month'] = int(float(file[:-4].split('_')[1]))\n",
    "        total_start_area.loc[k,'Area'] = pd.read_excel(r'..\\data\\overall_boundary_area\\%s'%file).loc[0,'area']\n",
    "        k=k+1"
   ]
  },
  {
   "cell_type": "code",
   "execution_count": 4,
   "metadata": {
    "collapsed": false
   },
   "outputs": [
    {
     "data": {
      "text/html": [
       "<div>\n",
       "<table border=\"1\" class=\"dataframe\">\n",
       "  <thead>\n",
       "    <tr style=\"text-align: right;\">\n",
       "      <th></th>\n",
       "      <th>OD</th>\n",
       "      <th>Month</th>\n",
       "      <th>Area</th>\n",
       "    </tr>\n",
       "  </thead>\n",
       "  <tbody>\n",
       "    <tr>\n",
       "      <th>0</th>\n",
       "      <td>starting</td>\n",
       "      <td>1</td>\n",
       "      <td>1363.800049</td>\n",
       "    </tr>\n",
       "    <tr>\n",
       "      <th>0</th>\n",
       "      <td>dest</td>\n",
       "      <td>1</td>\n",
       "      <td>1230.040039</td>\n",
       "    </tr>\n",
       "    <tr>\n",
       "      <th>2</th>\n",
       "      <td>starting</td>\n",
       "      <td>2</td>\n",
       "      <td>1662.310059</td>\n",
       "    </tr>\n",
       "    <tr>\n",
       "      <th>2</th>\n",
       "      <td>dest</td>\n",
       "      <td>2</td>\n",
       "      <td>1068.979980</td>\n",
       "    </tr>\n",
       "    <tr>\n",
       "      <th>3</th>\n",
       "      <td>starting</td>\n",
       "      <td>3</td>\n",
       "      <td>2909.659912</td>\n",
       "    </tr>\n",
       "    <tr>\n",
       "      <th>3</th>\n",
       "      <td>dest</td>\n",
       "      <td>3</td>\n",
       "      <td>1372.500000</td>\n",
       "    </tr>\n",
       "    <tr>\n",
       "      <th>4</th>\n",
       "      <td>starting</td>\n",
       "      <td>4</td>\n",
       "      <td>2297.290039</td>\n",
       "    </tr>\n",
       "    <tr>\n",
       "      <th>4</th>\n",
       "      <td>dest</td>\n",
       "      <td>4</td>\n",
       "      <td>2443.750000</td>\n",
       "    </tr>\n",
       "    <tr>\n",
       "      <th>5</th>\n",
       "      <td>starting</td>\n",
       "      <td>5</td>\n",
       "      <td>2391.260010</td>\n",
       "    </tr>\n",
       "    <tr>\n",
       "      <th>5</th>\n",
       "      <td>dest</td>\n",
       "      <td>5</td>\n",
       "      <td>2147.219971</td>\n",
       "    </tr>\n",
       "    <tr>\n",
       "      <th>6</th>\n",
       "      <td>starting</td>\n",
       "      <td>6</td>\n",
       "      <td>4139.819824</td>\n",
       "    </tr>\n",
       "    <tr>\n",
       "      <th>6</th>\n",
       "      <td>dest</td>\n",
       "      <td>6</td>\n",
       "      <td>3313.989990</td>\n",
       "    </tr>\n",
       "    <tr>\n",
       "      <th>7</th>\n",
       "      <td>dest</td>\n",
       "      <td>7</td>\n",
       "      <td>2888.649902</td>\n",
       "    </tr>\n",
       "    <tr>\n",
       "      <th>7</th>\n",
       "      <td>starting</td>\n",
       "      <td>7</td>\n",
       "      <td>3942.689941</td>\n",
       "    </tr>\n",
       "    <tr>\n",
       "      <th>8</th>\n",
       "      <td>starting</td>\n",
       "      <td>8</td>\n",
       "      <td>2680.189941</td>\n",
       "    </tr>\n",
       "    <tr>\n",
       "      <th>8</th>\n",
       "      <td>dest</td>\n",
       "      <td>8</td>\n",
       "      <td>2512.639893</td>\n",
       "    </tr>\n",
       "    <tr>\n",
       "      <th>9</th>\n",
       "      <td>starting</td>\n",
       "      <td>9</td>\n",
       "      <td>4442.410156</td>\n",
       "    </tr>\n",
       "    <tr>\n",
       "      <th>9</th>\n",
       "      <td>dest</td>\n",
       "      <td>9</td>\n",
       "      <td>4250.830078</td>\n",
       "    </tr>\n",
       "    <tr>\n",
       "      <th>1</th>\n",
       "      <td>starting</td>\n",
       "      <td>10</td>\n",
       "      <td>5995.580078</td>\n",
       "    </tr>\n",
       "    <tr>\n",
       "      <th>1</th>\n",
       "      <td>dest</td>\n",
       "      <td>10</td>\n",
       "      <td>4756.890137</td>\n",
       "    </tr>\n",
       "  </tbody>\n",
       "</table>\n",
       "</div>"
      ],
      "text/plain": [
       "         OD  Month         Area\n",
       "0  starting      1  1363.800049\n",
       "0      dest      1  1230.040039\n",
       "2  starting      2  1662.310059\n",
       "2      dest      2  1068.979980\n",
       "3  starting      3  2909.659912\n",
       "3      dest      3  1372.500000\n",
       "4  starting      4  2297.290039\n",
       "4      dest      4  2443.750000\n",
       "5  starting      5  2391.260010\n",
       "5      dest      5  2147.219971\n",
       "6  starting      6  4139.819824\n",
       "6      dest      6  3313.989990\n",
       "7      dest      7  2888.649902\n",
       "7  starting      7  3942.689941\n",
       "8  starting      8  2680.189941\n",
       "8      dest      8  2512.639893\n",
       "9  starting      9  4442.410156\n",
       "9      dest      9  4250.830078\n",
       "1  starting     10  5995.580078\n",
       "1      dest     10  4756.890137"
      ]
     },
     "execution_count": 4,
     "metadata": {},
     "output_type": "execute_result"
    }
   ],
   "source": [
    "boundary_area = pd.concat([start_area,dest_area]).sort_values(by = 'Month')\n",
    "total_boundary_area = pd.concat([total_start_area,total_dest_area]).sort_values(by = 'Month')\n",
    "total_boundary_area"
   ]
  },
  {
   "cell_type": "code",
   "execution_count": 22,
   "metadata": {
    "collapsed": false
   },
   "outputs": [
    {
     "data": {
      "image/png": "[encoded data removed]",
      "text/plain": [
       "<matplotlib.figure.Figure at 0x22befb8fa58>"
      ]
     },
     "metadata": {},
     "output_type": "display_data"
    }
   ],
   "source": [
    "fig, axes = plt.subplots(nrows=1, ncols=2,figsize = (10,3.5))\n",
    "plt.tight_layout(pad=0.4, w_pad=3, h_pad=5)\n",
    "\n",
    "# plot the origins\n",
    "boundary_area[boundary_area['OD']=='starting'].plot(x='Month',y='Area',style ='b-o',ax = axes[0])\n",
    "total_boundary_area[total_boundary_area['OD'] == 'starting'].plot(x='Month',secondary_y='Area',style ='k--o',markersize =5,ax = axes[0])\n",
    "axes[0].set_ylabel('Area (km$^2$)')\n",
    "axes[0].set_title('Origins')\n",
    "axes[0].set_ylim(0,300)\n",
    "axes[0].set_xlim(0,11)\n",
    "axes[0].right_ax.set_ylim(0,6500)\n",
    "axes[0].grid(True)\n",
    "axes[0].right_ax.grid(False)\n",
    "# legend control\n",
    "axes[0].legend(['Convex hull of individual cluster'],loc= 2)\n",
    "axes[0].right_ax.legend(['Convex hull of all points'],loc = 4)\n",
    "\n",
    "# plot the destinations\n",
    "boundary_area[boundary_area['OD']=='dest'].plot(x='Month',y='Area',style='g-o',ax = axes[1])\n",
    "total_boundary_area[total_boundary_area['OD'] == 'dest'].plot(x='Month',secondary_y='Area',style ='k--o',markersize = 5,ax = axes[1],zorder =ax2.get_zorder()-1)\n",
    "axes[1].set_title('Destinations')\n",
    "axes[1].set_xlim(0,11)\n",
    "axes[1].set_ylim(0,300)\n",
    "axes[1].right_ax.set_ylim(0,6500)\n",
    "# legend control\n",
    "axes[1].legend(['Convex hull of individual cluster'],loc= 2)\n",
    "axes[1].right_ax.legend(['Convex hull of all points'],loc = 4)\n",
    "axes[1].grid(True)\n",
    "axes[1].right_ax.grid(False)\n",
    "fig.savefig(r'../plots/spatial_coverage_of_clusters',dpi=300,bbox_inches='tight')"
   ]
  }
 ],
 "metadata": {
  "kernelspec": {
   "display_name": "Python 3",
   "language": "python",
   "name": "python3"
  },
  "language_info": {
   "codemirror_mode": {
    "name": "ipython",
    "version": 3
   },
   "file_extension": ".py",
   "mimetype": "text/x-python",
   "name": "python",
   "nbconvert_exporter": "python",
   "pygments_lexer": "ipython3",
   "version": "3.5.1"
  }
 },
 "nbformat": 4,
 "nbformat_minor": 0
}
