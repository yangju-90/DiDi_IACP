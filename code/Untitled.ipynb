{
 "cells": [
  {
   "cell_type": "code",
   "execution_count": 2,
   "metadata": {
    "collapsed": false
   },
   "outputs": [
    {
     "ename": "NameError",
     "evalue": "name 'xrange' is not defined",
     "output_type": "error",
     "traceback": [
      "\u001b[1;31m---------------------------------------------------------------------------\u001b[0m",
      "\u001b[1;31mNameError\u001b[0m                                 Traceback (most recent call last)",
      "\u001b[1;32m<ipython-input-2-49fad74fd6d7>\u001b[0m in \u001b[0;36m<module>\u001b[1;34m()\u001b[0m\n\u001b[0;32m     56\u001b[0m \u001b[0mPar\u001b[0m \u001b[1;33m=\u001b[0m \u001b[1;33m[\u001b[0m\u001b[1;36m0.3\u001b[0m\u001b[1;33m,\u001b[0m \u001b[1;36m15\u001b[0m\u001b[1;33m]\u001b[0m\u001b[1;33m\u001b[0m\u001b[0m\n\u001b[0;32m     57\u001b[0m \u001b[1;33m\u001b[0m\u001b[0m\n\u001b[1;32m---> 58\u001b[1;33m \u001b[0mPopEst\u001b[0m \u001b[1;33m=\u001b[0m \u001b[0mlogis\u001b[0m\u001b[1;33m(\u001b[0m\u001b[0mTime\u001b[0m\u001b[1;33m,\u001b[0m \u001b[0mPop\u001b[0m\u001b[1;33m,\u001b[0m \u001b[0mPar\u001b[0m\u001b[1;33m)\u001b[0m\u001b[1;33m\u001b[0m\u001b[0m\n\u001b[0m\u001b[0;32m     59\u001b[0m \u001b[1;33m\u001b[0m\u001b[0m\n\u001b[0;32m     60\u001b[0m \u001b[1;32mfor\u001b[0m \u001b[0mi\u001b[0m \u001b[1;32min\u001b[0m \u001b[0mxrange\u001b[0m\u001b[1;33m(\u001b[0m\u001b[0mlen\u001b[0m\u001b[1;33m(\u001b[0m\u001b[0mPopEst\u001b[0m\u001b[1;33m)\u001b[0m\u001b[1;33m)\u001b[0m\u001b[1;33m:\u001b[0m\u001b[1;33m\u001b[0m\u001b[0m\n",
      "\u001b[1;32m<ipython-input-2-49fad74fd6d7>\u001b[0m in \u001b[0;36mlogis\u001b[1;34m(x, y, p)\u001b[0m\n\u001b[0;32m      9\u001b[0m \u001b[1;32mdef\u001b[0m \u001b[0mlogis\u001b[0m\u001b[1;33m(\u001b[0m\u001b[0mx\u001b[0m\u001b[1;33m,\u001b[0m \u001b[0my\u001b[0m\u001b[1;33m,\u001b[0m \u001b[0mp\u001b[0m\u001b[1;33m)\u001b[0m\u001b[1;33m:\u001b[0m\u001b[1;33m\u001b[0m\u001b[0m\n\u001b[0;32m     10\u001b[0m         \u001b[0mest\u001b[0m \u001b[1;33m=\u001b[0m \u001b[1;33m[\u001b[0m\u001b[1;33m]\u001b[0m\u001b[1;33m\u001b[0m\u001b[0m\n\u001b[1;32m---> 11\u001b[1;33m         \u001b[1;32mfor\u001b[0m \u001b[0mtime\u001b[0m \u001b[1;32min\u001b[0m \u001b[0mxrange\u001b[0m\u001b[1;33m(\u001b[0m\u001b[1;36m0\u001b[0m\u001b[1;33m,\u001b[0m \u001b[0mlen\u001b[0m\u001b[1;33m(\u001b[0m\u001b[0mx\u001b[0m\u001b[1;33m)\u001b[0m\u001b[1;33m)\u001b[0m\u001b[1;33m:\u001b[0m\u001b[1;33m\u001b[0m\u001b[0m\n\u001b[0m\u001b[0;32m     12\u001b[0m                 \u001b[0mnum\u001b[0m \u001b[1;33m=\u001b[0m \u001b[0mp\u001b[0m\u001b[1;33m[\u001b[0m\u001b[1;36m1\u001b[0m\u001b[1;33m]\u001b[0m \u001b[1;33m*\u001b[0m \u001b[0my\u001b[0m\u001b[1;33m[\u001b[0m\u001b[1;36m0\u001b[0m\u001b[1;33m]\u001b[0m \u001b[1;33m*\u001b[0m \u001b[0mnp\u001b[0m\u001b[1;33m.\u001b[0m\u001b[0mexp\u001b[0m\u001b[1;33m(\u001b[0m\u001b[0mp\u001b[0m\u001b[1;33m[\u001b[0m\u001b[1;36m0\u001b[0m\u001b[1;33m]\u001b[0m \u001b[1;33m*\u001b[0m \u001b[0mx\u001b[0m\u001b[1;33m[\u001b[0m\u001b[0mtime\u001b[0m\u001b[1;33m]\u001b[0m\u001b[1;33m)\u001b[0m\u001b[1;33m\u001b[0m\u001b[0m\n\u001b[0;32m     13\u001b[0m                 \u001b[0mden\u001b[0m \u001b[1;33m=\u001b[0m \u001b[0mp\u001b[0m\u001b[1;33m[\u001b[0m\u001b[1;36m1\u001b[0m\u001b[1;33m]\u001b[0m \u001b[1;33m+\u001b[0m \u001b[0my\u001b[0m\u001b[1;33m[\u001b[0m\u001b[1;36m0\u001b[0m\u001b[1;33m]\u001b[0m \u001b[1;33m*\u001b[0m \u001b[1;33m(\u001b[0m\u001b[0mnp\u001b[0m\u001b[1;33m.\u001b[0m\u001b[0mexp\u001b[0m\u001b[1;33m(\u001b[0m\u001b[0mp\u001b[0m\u001b[1;33m[\u001b[0m\u001b[1;36m0\u001b[0m\u001b[1;33m]\u001b[0m \u001b[1;33m*\u001b[0m \u001b[0mx\u001b[0m\u001b[1;33m[\u001b[0m\u001b[0mtime\u001b[0m\u001b[1;33m]\u001b[0m\u001b[1;33m)\u001b[0m \u001b[1;33m-\u001b[0m\u001b[1;36m1\u001b[0m\u001b[1;33m)\u001b[0m\u001b[1;33m\u001b[0m\u001b[0m\n",
      "\u001b[1;31mNameError\u001b[0m: name 'xrange' is not defined"
     ]
    }
   ],
   "source": [
    "## PyLogis\n",
    "\n",
    "import numpy as np\n",
    "import scipy as sp\n",
    "import matplotlib.pyplot as plt\n",
    "\n",
    "# Param orders: r, K\n",
    "\n",
    "def logis(x, y, p):\n",
    "\test = []\n",
    "\tfor time in xrange(0, len(x)):\n",
    "\t\tnum = p[1] * y[0] * np.exp(p[0] * x[time])\n",
    "\t\tden = p[1] + y[0] * (np.exp(p[0] * x[time]) -1)\n",
    "\t\test.append(num/float(den))\n",
    "\treturn est\n",
    "\n",
    "def leastsquare(y, est):\n",
    "\terr = []\n",
    "\tfor i in xrange(len(y)):\n",
    "\t\terr.append( np.power(y[i] - est[i], 2) )\n",
    "\treturn np.sum(err)\n",
    "\n",
    "def pylogis(x, y, npop, ng, f, e, p):\n",
    "\tTimeFit = []\n",
    "\t## Step 1: Initial random parameters\n",
    "\tpar = np.empty([npop, len(p)])\n",
    "\tfor pop in xrange(npop):\n",
    "\t\tfor pa in xrange(len(p)):\n",
    "\t\t\tpar[pop,pa] = np.random.normal(loc = p[pa], scale = 1)\n",
    "\t## Step 2: Simuls\n",
    "\tfor gen in xrange(ng):\n",
    "\t\tFit = []\n",
    "\t\tfor pop in xrange(npop):\n",
    "\t\t\tCurrPar = par[pop,:]\n",
    "\t\t\tCurrEst = f(x, y, CurrPar)\n",
    "\t\t\tCurrErr = e(y, CurrEst)\n",
    "\t\t\tFit.append(CurrErr)\n",
    "\t\t# Get the best set\n",
    "\t\tMinFit = np.min(Fit)\n",
    "\t\tTimeFit.append(MinFit)\n",
    "\t\tfor pop in xrange(npop):\n",
    "\t\t\tif Fit[pop] == MinFit:\n",
    "\t\t\t\tp = par[pop,:]\n",
    "\t\t\t\tbreak\n",
    "\t\t# New empty parameters\n",
    "\t\tpar = np.empty([npop, len(p)])\n",
    "\t\tfor pop in xrange(npop):\n",
    "\t\t\tfor pa in xrange(len(p)):\n",
    "\t\t\t\tpar[pop,pa] = np.random.normal(loc = p[pa], scale = p[pa] / float(100))\n",
    "\treturn p\n",
    "\n",
    "# Test\n",
    "\n",
    "Time = np.linspace(0, 35, 80)\n",
    "Pop = [1]\n",
    "Par = [0.3, 15]\n",
    "\n",
    "PopEst = logis(Time, Pop, Par)\n",
    "\n",
    "for i in xrange(len(PopEst)):\n",
    "\tPopEst[i] = np.random.normal(loc = PopEst[i], scale = PopEst[i] / float(15))\n",
    "\n",
    "Opt = pylogis(Time, PopEst, 10, 100, logis, leastsquare, [0.01, 12])\n",
    "\n",
    "PopCal = logis(Time, Pop, Opt)\n",
    "\n",
    "print(Opt)\n",
    "\n",
    "plt.plot(Time, PopCal, 'g-', Time, PopEst, 'bo')\n",
    "plt.show()"
   ]
  }
 ],
 "metadata": {
  "kernelspec": {
   "display_name": "Python 3",
   "language": "python",
   "name": "python3"
  },
  "language_info": {
   "codemirror_mode": {
    "name": "ipython",
    "version": 3
   },
   "file_extension": ".py",
   "mimetype": "text/x-python",
   "name": "python",
   "nbconvert_exporter": "python",
   "pygments_lexer": "ipython3",
   "version": "3.5.1"
  }
 },
 "nbformat": 4,
 "nbformat_minor": 0
}
